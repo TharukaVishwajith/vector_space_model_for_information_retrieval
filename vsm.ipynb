{
  "nbformat": 4,
  "nbformat_minor": 0,
  "metadata": {
    "colab": {
      "name": "vsm.ipynb",
      "provenance": [],
      "collapsed_sections": [],
      "authorship_tag": "ABX9TyO4fEXEP+LNCjueNU3pAiAP",
      "include_colab_link": true
    },
    "kernelspec": {
      "name": "python3",
      "display_name": "Python 3"
    }
  },
  "cells": [
    {
      "cell_type": "markdown",
      "metadata": {
        "id": "view-in-github",
        "colab_type": "text"
      },
      "source": [
        "<a href=\"https://colab.research.google.com/github/TharukaVishwajith/vector_space-model_for_information_retrieval-/blob/master/vsm.ipynb\" target=\"_parent\"><img src=\"https://colab.research.google.com/assets/colab-badge.svg\" alt=\"Open In Colab\"/></a>"
      ]
    },
    {
      "cell_type": "code",
      "metadata": {
        "id": "0UoUZr4vXASs",
        "colab_type": "code",
        "colab": {}
      },
      "source": [
        "import pandas as pd\n",
        "import numpy as np\n",
        "from numpy import genfromtxt\n"
      ],
      "execution_count": 0,
      "outputs": []
    },
    {
      "cell_type": "code",
      "metadata": {
        "id": "5CgGCG-PE1bA",
        "colab_type": "code",
        "colab": {}
      },
      "source": [
        "# a = np.array([1, 2, 3])\n",
        "\n",
        "nugget = np.array([4, 5, 3, 3, 2])\n",
        "drumstics = np.array([5, 5, 4, 3, 4])\n",
        "hotdog = np.array([1, 4, 1, 3, 5])"
      ],
      "execution_count": 0,
      "outputs": []
    },
    {
      "cell_type": "code",
      "metadata": {
        "id": "DVzNaHmFDLJN",
        "colab_type": "code",
        "colab": {
          "base_uri": "https://localhost:8080/",
          "height": 34
        },
        "outputId": "9aa4b386-ad33-42d1-ed4b-bd6a88471726"
      },
      "source": [
        "def cal_nomrmalization_length(v):\n",
        "  ts = 0\n",
        "  for x in v:\n",
        "    ts += pow(x,2)\n",
        "  return pow(ts,0.5);\n",
        "\n",
        "# cal_nomrmalization_length(a)"
      ],
      "execution_count": 14,
      "outputs": [
        {
          "output_type": "execute_result",
          "data": {
            "text/plain": [
              "3.7416573867739413"
            ]
          },
          "metadata": {
            "tags": []
          },
          "execution_count": 14
        }
      ]
    },
    {
      "cell_type": "code",
      "metadata": {
        "id": "U6mZnlrFEI2P",
        "colab_type": "code",
        "colab": {}
      },
      "source": [
        "def generate_normalized_frequency_weightage_vector(v):\n",
        "  length_nomalization = cal_nomrmalization_length(v)\n",
        "  vec = np.array([])\n",
        "  for x in range(v.size):\n",
        "    vec = np.insert(vec,x,v[x]/length_nomalization)\n",
        "  return vec\n",
        "\n",
        "# generate_normalized_frequency_weightage_vector(a)  "
      ],
      "execution_count": 0,
      "outputs": []
    },
    {
      "cell_type": "code",
      "metadata": {
        "id": "xyfBtZ70HUyE",
        "colab_type": "code",
        "colab": {
          "base_uri": "https://localhost:8080/",
          "height": 34
        },
        "outputId": "d6b03481-56df-4297-fdfd-9c3125b9badb"
      },
      "source": [
        "cos_nugget_drumstics = np.dot(\n",
        "    generate_normalized_frequency_weightage_vector(nugget),\n",
        "    generate_normalized_frequency_weightage_vector(drumstics))\n",
        "print(cos_nugget_drumstics)"
      ],
      "execution_count": 35,
      "outputs": [
        {
          "output_type": "stream",
          "text": [
            "0.977328917158737\n"
          ],
          "name": "stdout"
        }
      ]
    },
    {
      "cell_type": "code",
      "metadata": {
        "id": "_jE9_0OENXSX",
        "colab_type": "code",
        "colab": {
          "base_uri": "https://localhost:8080/",
          "height": 34
        },
        "outputId": "bcae5144-9bc7-4725-d212-9f34cf1e0e7b"
      },
      "source": [
        "cos_nugget_hotdog = np.dot(\n",
        "    generate_normalized_frequency_weightage_vector(nugget),\n",
        "    generate_normalized_frequency_weightage_vector(hotdog))\n",
        "print(cos_nugget_hotdog)"
      ],
      "execution_count": 36,
      "outputs": [
        {
          "output_type": "stream",
          "text": [
            "0.803685041486804\n"
          ],
          "name": "stdout"
        }
      ]
    },
    {
      "cell_type": "code",
      "metadata": {
        "id": "3_Y_MkncNunG",
        "colab_type": "code",
        "colab": {
          "base_uri": "https://localhost:8080/",
          "height": 34
        },
        "outputId": "aa6c80f9-2870-4f8a-cd9d-6bcf58422112"
      },
      "source": [
        "cos_drumstics_hotdog = np.dot(\n",
        "    generate_normalized_frequency_weightage_vector(drumstics),\n",
        "    generate_normalized_frequency_weightage_vector(hotdog))\n",
        "print(cos_drumstics_hotdog)"
      ],
      "execution_count": 44,
      "outputs": [
        {
          "output_type": "stream",
          "text": [
            "0.8431515167128916\n"
          ],
          "name": "stdout"
        }
      ]
    },
    {
      "cell_type": "code",
      "metadata": {
        "id": "ekBx6lDPN6SY",
        "colab_type": "code",
        "colab": {}
      },
      "source": [
        "df = pd.read_csv(\"data.csv\").to_numpy()\n",
        "\n",
        "# jone = df[0][1:]\n",
        "# ann = df[1][1:]\n",
        "# susan = df[2][1:]\n",
        "# gearse = df[3][1:]\n",
        "# paul = df[4][1:]"
      ],
      "execution_count": 0,
      "outputs": []
    },
    {
      "cell_type": "code",
      "metadata": {
        "id": "H_nXLGzzSXUP",
        "colab_type": "code",
        "colab": {
          "base_uri": "https://localhost:8080/",
          "height": 187
        },
        "outputId": "e366d282-516e-43a4-ba5d-84a1c8dcdf2e"
      },
      "source": [
        "# cos_jone_ann = np.dot(\n",
        "#     generate_normalized_frequency_weightage_vector(df[0][1:]),\n",
        "#     generate_normalized_frequency_weightage_vector(df[1][1:]))\n",
        "\n",
        "# cos_ann_susan = np.dot(\n",
        "#     generate_normalized_frequency_weightage_vector(df[1][1:]),\n",
        "#     generate_normalized_frequency_weightage_vector(df[2][1:]))\n",
        "\n",
        "# cos_susan_gearse = np.dot(\n",
        "#     generate_normalized_frequency_weightage_vector(df[2][1:]),\n",
        "#     generate_normalized_frequency_weightage_vector(df[3][1:]))\n",
        "\n",
        "vec_length = int(df.size/ df[0].size)\n",
        "\n",
        "for x in range(vec_length):\n",
        "  for y in range(x+1, vec_length):\n",
        "    cos_dot_product = np.dot(\n",
        "        generate_normalized_frequency_weightage_vector(df[x][1:]),\n",
        "        generate_normalized_frequency_weightage_vector(df[y][1:]))\n",
        "    print(\"cos_\" + df[x][0] + \"_\" + df[y][0],\" : \" ,\"%1.5f\" %(cos_dot_product))\n"
      ],
      "execution_count": 106,
      "outputs": [
        {
          "output_type": "stream",
          "text": [
            "cos_Jone_Ann  :  0.93068\n",
            "cos_Jone_Susan  :  0.99863\n",
            "cos_Jone_Gearse  :  0.89087\n",
            "cos_Jone_Paul  :  0.75907\n",
            "cos_Ann_Susan  :  0.94147\n",
            "cos_Ann_Gearse  :  0.99494\n",
            "cos_Ann_Paul  :  0.91747\n",
            "cos_Susan_Gearse  :  0.90582\n",
            "cos_Susan_Paul  :  0.78935\n",
            "cos_Gearse_Paul  :  0.94673\n"
          ],
          "name": "stdout"
        }
      ]
    },
    {
      "cell_type": "code",
      "metadata": {
        "id": "T6TEzG-NSiSy",
        "colab_type": "code",
        "colab": {}
      },
      "source": [
        ""
      ],
      "execution_count": 0,
      "outputs": []
    }
  ]
}